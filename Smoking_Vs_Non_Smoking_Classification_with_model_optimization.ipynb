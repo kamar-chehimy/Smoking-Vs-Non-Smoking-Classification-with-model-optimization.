{
  "cells": [
    {
      "cell_type": "markdown",
      "metadata": {
        "id": "SKzBo_NmCSMR"
      },
      "source": [
        "\n",
        "\n",
        "---\n",
        "## Case Study: Classifying Smokers vs Non Smokers\n",
        "\n",
        "**Objective:**\n",
        "\n",
        "Goal is not only to make a prediction for a person smoking status, it is to make a prediction with the best possible way. So will be building, evaluating, and improving  model.\n",
        "\n",
        "\n",
        "## Dataset Description\n",
        "\n",
        "\n",
        "*   **age**: age of primary beneficiary\n",
        "*   **sex**: insurance contractor gender, female, male\n",
        "*   **bmi**: Body mass index, providing an understanding of body, weights that are relatively high or low relative to height,\n",
        "objective index of body weight (kg / m ^ 2) using the ratio of height to weight, ideally 18.5 to 24.9\n",
        "*   **children**: Number of children covered by health insurance / Number of dependents\n",
        "*   **smoker**: Smoking\n",
        "*   **region**: the beneficiary's residential area in the US, northeast, southeast, southwest, northwest.\n",
        "*   **charges**: Individual medical costs billed by health insurance"
      ]
    },
    {
      "cell_type": "markdown",
      "metadata": {
        "id": "lW2QzRbXR5Ph"
      },
      "source": [
        "Our problem would be to predict if a person is smoker or not based on all the other features in the dataset."
      ]
    },
    {
      "cell_type": "markdown",
      "metadata": {
        "id": "5k7QqVknG5ya"
      },
      "source": [
        "## 1. Data Loading"
      ]
    },
    {
      "cell_type": "markdown",
      "metadata": {
        "id": "GfyJQMOnE_48"
      },
      "source": [
        "#### Import necessary python modules\n",
        "\n",
        "We will need the following libraries:\n",
        " - Numpy — for scientific computing (e.g., linear algebra (vectors & matrices)).\n",
        " - Pandas — providing high-performance, easy-to-use data reading, manipulation, and analysis.\n",
        " - Matplotlib — plotting & visualization.\n",
        " - scikit-learn — a tool for data mining and machine learning models. We need from it train_test_split and LogisticRegression Functions"
      ]
    },
    {
      "cell_type": "code",
      "execution_count": null,
      "metadata": {
        "id": "u9nnDKPjAfGq"
      },
      "outputs": [],
      "source": [
        "#Test Your Zaka\n",
        "import numpy as np\n",
        "import pandas as pd\n",
        "import matplotlib.pyplot as plt \n",
        "\n",
        "from sklearn.model_selection import train_test_split\n",
        "from sklearn.linear_model import LogisticRegression"
      ]
    },
    {
      "cell_type": "markdown",
      "metadata": {
        "id": "4LEivAvUHIE3"
      },
      "source": [
        "#### Read & visualize data\n",
        "To load the data to our code, we use **pandas** module, more specifically, the **read_csv** function. Print the head of your dataset."
      ]
    },
    {
      "cell_type": "code",
      "execution_count": null,
      "metadata": {
        "colab": {
          "base_uri": "https://localhost:8080/",
          "height": 334
        },
        "id": "_hep8239AzVU",
        "outputId": "38a329af-5527-4237-d5aa-4feaf626d470"
      },
      "outputs": [
        {
          "output_type": "stream",
          "name": "stdout",
          "text": [
            "Cloning into 'medical-cost-prediction'...\n",
            "remote: Enumerating objects: 18, done.\u001b[K\n",
            "remote: Counting objects: 100% (18/18), done.\u001b[K\n",
            "remote: Compressing objects: 100% (13/13), done.\u001b[K\n",
            "remote: Total 18 (delta 2), reused 15 (delta 2), pack-reused 0\u001b[K\n",
            "Unpacking objects: 100% (18/18), done.\n",
            "/content/medical-cost-prediction/data\n"
          ]
        },
        {
          "output_type": "execute_result",
          "data": {
            "text/plain": [
              "   age     sex     bmi  children smoker     region      charges\n",
              "0   19  female  27.900         0    yes  southwest  16884.92400\n",
              "1   18    male  33.770         1     no  southeast   1725.55230\n",
              "2   28    male  33.000         3     no  southeast   4449.46200\n",
              "3   33    male  22.705         0     no  northwest  21984.47061\n",
              "4   32    male  28.880         0     no  northwest   3866.85520"
            ],
            "text/html": [
              "\n",
              "  <div id=\"df-94443445-9141-4ece-b334-d03b198c6bac\">\n",
              "    <div class=\"colab-df-container\">\n",
              "      <div>\n",
              "<style scoped>\n",
              "    .dataframe tbody tr th:only-of-type {\n",
              "        vertical-align: middle;\n",
              "    }\n",
              "\n",
              "    .dataframe tbody tr th {\n",
              "        vertical-align: top;\n",
              "    }\n",
              "\n",
              "    .dataframe thead th {\n",
              "        text-align: right;\n",
              "    }\n",
              "</style>\n",
              "<table border=\"1\" class=\"dataframe\">\n",
              "  <thead>\n",
              "    <tr style=\"text-align: right;\">\n",
              "      <th></th>\n",
              "      <th>age</th>\n",
              "      <th>sex</th>\n",
              "      <th>bmi</th>\n",
              "      <th>children</th>\n",
              "      <th>smoker</th>\n",
              "      <th>region</th>\n",
              "      <th>charges</th>\n",
              "    </tr>\n",
              "  </thead>\n",
              "  <tbody>\n",
              "    <tr>\n",
              "      <th>0</th>\n",
              "      <td>19</td>\n",
              "      <td>female</td>\n",
              "      <td>27.900</td>\n",
              "      <td>0</td>\n",
              "      <td>yes</td>\n",
              "      <td>southwest</td>\n",
              "      <td>16884.92400</td>\n",
              "    </tr>\n",
              "    <tr>\n",
              "      <th>1</th>\n",
              "      <td>18</td>\n",
              "      <td>male</td>\n",
              "      <td>33.770</td>\n",
              "      <td>1</td>\n",
              "      <td>no</td>\n",
              "      <td>southeast</td>\n",
              "      <td>1725.55230</td>\n",
              "    </tr>\n",
              "    <tr>\n",
              "      <th>2</th>\n",
              "      <td>28</td>\n",
              "      <td>male</td>\n",
              "      <td>33.000</td>\n",
              "      <td>3</td>\n",
              "      <td>no</td>\n",
              "      <td>southeast</td>\n",
              "      <td>4449.46200</td>\n",
              "    </tr>\n",
              "    <tr>\n",
              "      <th>3</th>\n",
              "      <td>33</td>\n",
              "      <td>male</td>\n",
              "      <td>22.705</td>\n",
              "      <td>0</td>\n",
              "      <td>no</td>\n",
              "      <td>northwest</td>\n",
              "      <td>21984.47061</td>\n",
              "    </tr>\n",
              "    <tr>\n",
              "      <th>4</th>\n",
              "      <td>32</td>\n",
              "      <td>male</td>\n",
              "      <td>28.880</td>\n",
              "      <td>0</td>\n",
              "      <td>no</td>\n",
              "      <td>northwest</td>\n",
              "      <td>3866.85520</td>\n",
              "    </tr>\n",
              "  </tbody>\n",
              "</table>\n",
              "</div>\n",
              "      <button class=\"colab-df-convert\" onclick=\"convertToInteractive('df-94443445-9141-4ece-b334-d03b198c6bac')\"\n",
              "              title=\"Convert this dataframe to an interactive table.\"\n",
              "              style=\"display:none;\">\n",
              "        \n",
              "  <svg xmlns=\"http://www.w3.org/2000/svg\" height=\"24px\"viewBox=\"0 0 24 24\"\n",
              "       width=\"24px\">\n",
              "    <path d=\"M0 0h24v24H0V0z\" fill=\"none\"/>\n",
              "    <path d=\"M18.56 5.44l.94 2.06.94-2.06 2.06-.94-2.06-.94-.94-2.06-.94 2.06-2.06.94zm-11 1L8.5 8.5l.94-2.06 2.06-.94-2.06-.94L8.5 2.5l-.94 2.06-2.06.94zm10 10l.94 2.06.94-2.06 2.06-.94-2.06-.94-.94-2.06-.94 2.06-2.06.94z\"/><path d=\"M17.41 7.96l-1.37-1.37c-.4-.4-.92-.59-1.43-.59-.52 0-1.04.2-1.43.59L10.3 9.45l-7.72 7.72c-.78.78-.78 2.05 0 2.83L4 21.41c.39.39.9.59 1.41.59.51 0 1.02-.2 1.41-.59l7.78-7.78 2.81-2.81c.8-.78.8-2.07 0-2.86zM5.41 20L4 18.59l7.72-7.72 1.47 1.35L5.41 20z\"/>\n",
              "  </svg>\n",
              "      </button>\n",
              "      \n",
              "  <style>\n",
              "    .colab-df-container {\n",
              "      display:flex;\n",
              "      flex-wrap:wrap;\n",
              "      gap: 12px;\n",
              "    }\n",
              "\n",
              "    .colab-df-convert {\n",
              "      background-color: #E8F0FE;\n",
              "      border: none;\n",
              "      border-radius: 50%;\n",
              "      cursor: pointer;\n",
              "      display: none;\n",
              "      fill: #1967D2;\n",
              "      height: 32px;\n",
              "      padding: 0 0 0 0;\n",
              "      width: 32px;\n",
              "    }\n",
              "\n",
              "    .colab-df-convert:hover {\n",
              "      background-color: #E2EBFA;\n",
              "      box-shadow: 0px 1px 2px rgba(60, 64, 67, 0.3), 0px 1px 3px 1px rgba(60, 64, 67, 0.15);\n",
              "      fill: #174EA6;\n",
              "    }\n",
              "\n",
              "    [theme=dark] .colab-df-convert {\n",
              "      background-color: #3B4455;\n",
              "      fill: #D2E3FC;\n",
              "    }\n",
              "\n",
              "    [theme=dark] .colab-df-convert:hover {\n",
              "      background-color: #434B5C;\n",
              "      box-shadow: 0px 1px 3px 1px rgba(0, 0, 0, 0.15);\n",
              "      filter: drop-shadow(0px 1px 2px rgba(0, 0, 0, 0.3));\n",
              "      fill: #FFFFFF;\n",
              "    }\n",
              "  </style>\n",
              "\n",
              "      <script>\n",
              "        const buttonEl =\n",
              "          document.querySelector('#df-94443445-9141-4ece-b334-d03b198c6bac button.colab-df-convert');\n",
              "        buttonEl.style.display =\n",
              "          google.colab.kernel.accessAllowed ? 'block' : 'none';\n",
              "\n",
              "        async function convertToInteractive(key) {\n",
              "          const element = document.querySelector('#df-94443445-9141-4ece-b334-d03b198c6bac');\n",
              "          const dataTable =\n",
              "            await google.colab.kernel.invokeFunction('convertToInteractive',\n",
              "                                                     [key], {});\n",
              "          if (!dataTable) return;\n",
              "\n",
              "          const docLinkHtml = 'Like what you see? Visit the ' +\n",
              "            '<a target=\"_blank\" href=https://colab.research.google.com/notebooks/data_table.ipynb>data table notebook</a>'\n",
              "            + ' to learn more about interactive tables.';\n",
              "          element.innerHTML = '';\n",
              "          dataTable['output_type'] = 'display_data';\n",
              "          await google.colab.output.renderOutput(dataTable, element);\n",
              "          const docLink = document.createElement('div');\n",
              "          docLink.innerHTML = docLinkHtml;\n",
              "          element.appendChild(docLink);\n",
              "        }\n",
              "      </script>\n",
              "    </div>\n",
              "  </div>\n",
              "  "
            ]
          },
          "metadata": {},
          "execution_count": 2
        }
      ],
      "source": [
        "#Test Your Zaka\n",
        "# clone git repo\n",
        "!git clone https://github.com/zaka-ai/medical-cost-prediction\n",
        "\n",
        "# change working directory\n",
        "%cd medical-cost-prediction/data/\n",
        "\n",
        "# read CSV file\n",
        "data = pd.read_csv('insurance.csv')\n",
        "\n",
        "# display head\n",
        "data.head(5)"
      ]
    },
    {
      "cell_type": "markdown",
      "metadata": {
        "id": "qgIxvmAKhiqe"
      },
      "source": [
        "## 2. Exploratory Data Analysis\n",
        "\n",
        "Let's dig deeper & understand our data"
      ]
    },
    {
      "cell_type": "markdown",
      "metadata": {
        "id": "LbXDTkiQhzwq"
      },
      "source": [
        "**Task:** how many rows & columns in our dataset"
      ]
    },
    {
      "cell_type": "code",
      "execution_count": null,
      "metadata": {
        "colab": {
          "base_uri": "https://localhost:8080/"
        },
        "id": "nUf0K_SMh1og",
        "outputId": "2519f5ce-4047-4553-8dfe-e90484555f3c"
      },
      "outputs": [
        {
          "output_type": "stream",
          "name": "stdout",
          "text": [
            "There are 1338 rows and 7 columns\n"
          ]
        }
      ],
      "source": [
        "#Test Your Zaka \n",
        "print(f\"There are {data.shape[0]} rows and {data.shape[1]} columns\")"
      ]
    },
    {
      "cell_type": "markdown",
      "metadata": {
        "id": "rPqsS9S2B2M4"
      },
      "source": [
        "Using the function **info()**, we can check:\n",
        " - data types (int, float, or object (e.g., string))\n",
        " - missing values\n",
        " - memory usage\n",
        " - number of rows and columns"
      ]
    },
    {
      "cell_type": "code",
      "execution_count": null,
      "metadata": {
        "colab": {
          "base_uri": "https://localhost:8080/"
        },
        "id": "exWsHvXSA7nz",
        "outputId": "b144dfd0-c7cb-4504-da98-d5ed38307acb"
      },
      "outputs": [
        {
          "output_type": "stream",
          "name": "stdout",
          "text": [
            "<class 'pandas.core.frame.DataFrame'>\n",
            "RangeIndex: 1338 entries, 0 to 1337\n",
            "Data columns (total 7 columns):\n",
            " #   Column    Non-Null Count  Dtype  \n",
            "---  ------    --------------  -----  \n",
            " 0   age       1338 non-null   int64  \n",
            " 1   sex       1338 non-null   object \n",
            " 2   bmi       1335 non-null   float64\n",
            " 3   children  1338 non-null   int64  \n",
            " 4   smoker    1338 non-null   object \n",
            " 5   region    1338 non-null   object \n",
            " 6   charges   1338 non-null   float64\n",
            "dtypes: float64(2), int64(2), object(3)\n",
            "memory usage: 73.3+ KB\n"
          ]
        }
      ],
      "source": [
        "#Test Your Zaka\n",
        "data.info()\n",
        "## we have just 3 missing values for the bmi\n",
        "## we have (bmi and charges) as type float, (age, children) as type integer, (sex, smoker, region) as type object\n",
        "## memory used > 73.3 KB\n",
        "## 1338 rows and 1337 columns"
      ]
    },
    {
      "cell_type": "markdown",
      "metadata": {
        "id": "Kt2KsZa2B63T"
      },
      "source": [
        "Using the function **describe()**, we can check the mean, standard deviation, maximum, and minimum of each numerical feature (column)"
      ]
    },
    {
      "cell_type": "code",
      "execution_count": null,
      "metadata": {
        "colab": {
          "base_uri": "https://localhost:8080/",
          "height": 300
        },
        "id": "pifR8QwkA-DW",
        "outputId": "ab7d8a60-0697-44d8-adaa-8e3b6b7fc3fd"
      },
      "outputs": [
        {
          "output_type": "execute_result",
          "data": {
            "text/plain": [
              "               age          bmi     children       charges\n",
              "count  1338.000000  1335.000000  1338.000000   1338.000000\n",
              "mean     39.207025    30.661423     1.094918  13270.422265\n",
              "std      14.049960     6.101038     1.205493  12110.011237\n",
              "min      18.000000    15.960000     0.000000   1121.873900\n",
              "25%      27.000000    26.302500     0.000000   4740.287150\n",
              "50%      39.000000    30.400000     1.000000   9382.033000\n",
              "75%      51.000000    34.687500     2.000000  16639.912515\n",
              "max      64.000000    53.130000     5.000000  63770.428010"
            ],
            "text/html": [
              "\n",
              "  <div id=\"df-6a629f87-6c90-4d12-a7e4-b713b53c881f\">\n",
              "    <div class=\"colab-df-container\">\n",
              "      <div>\n",
              "<style scoped>\n",
              "    .dataframe tbody tr th:only-of-type {\n",
              "        vertical-align: middle;\n",
              "    }\n",
              "\n",
              "    .dataframe tbody tr th {\n",
              "        vertical-align: top;\n",
              "    }\n",
              "\n",
              "    .dataframe thead th {\n",
              "        text-align: right;\n",
              "    }\n",
              "</style>\n",
              "<table border=\"1\" class=\"dataframe\">\n",
              "  <thead>\n",
              "    <tr style=\"text-align: right;\">\n",
              "      <th></th>\n",
              "      <th>age</th>\n",
              "      <th>bmi</th>\n",
              "      <th>children</th>\n",
              "      <th>charges</th>\n",
              "    </tr>\n",
              "  </thead>\n",
              "  <tbody>\n",
              "    <tr>\n",
              "      <th>count</th>\n",
              "      <td>1338.000000</td>\n",
              "      <td>1335.000000</td>\n",
              "      <td>1338.000000</td>\n",
              "      <td>1338.000000</td>\n",
              "    </tr>\n",
              "    <tr>\n",
              "      <th>mean</th>\n",
              "      <td>39.207025</td>\n",
              "      <td>30.661423</td>\n",
              "      <td>1.094918</td>\n",
              "      <td>13270.422265</td>\n",
              "    </tr>\n",
              "    <tr>\n",
              "      <th>std</th>\n",
              "      <td>14.049960</td>\n",
              "      <td>6.101038</td>\n",
              "      <td>1.205493</td>\n",
              "      <td>12110.011237</td>\n",
              "    </tr>\n",
              "    <tr>\n",
              "      <th>min</th>\n",
              "      <td>18.000000</td>\n",
              "      <td>15.960000</td>\n",
              "      <td>0.000000</td>\n",
              "      <td>1121.873900</td>\n",
              "    </tr>\n",
              "    <tr>\n",
              "      <th>25%</th>\n",
              "      <td>27.000000</td>\n",
              "      <td>26.302500</td>\n",
              "      <td>0.000000</td>\n",
              "      <td>4740.287150</td>\n",
              "    </tr>\n",
              "    <tr>\n",
              "      <th>50%</th>\n",
              "      <td>39.000000</td>\n",
              "      <td>30.400000</td>\n",
              "      <td>1.000000</td>\n",
              "      <td>9382.033000</td>\n",
              "    </tr>\n",
              "    <tr>\n",
              "      <th>75%</th>\n",
              "      <td>51.000000</td>\n",
              "      <td>34.687500</td>\n",
              "      <td>2.000000</td>\n",
              "      <td>16639.912515</td>\n",
              "    </tr>\n",
              "    <tr>\n",
              "      <th>max</th>\n",
              "      <td>64.000000</td>\n",
              "      <td>53.130000</td>\n",
              "      <td>5.000000</td>\n",
              "      <td>63770.428010</td>\n",
              "    </tr>\n",
              "  </tbody>\n",
              "</table>\n",
              "</div>\n",
              "      <button class=\"colab-df-convert\" onclick=\"convertToInteractive('df-6a629f87-6c90-4d12-a7e4-b713b53c881f')\"\n",
              "              title=\"Convert this dataframe to an interactive table.\"\n",
              "              style=\"display:none;\">\n",
              "        \n",
              "  <svg xmlns=\"http://www.w3.org/2000/svg\" height=\"24px\"viewBox=\"0 0 24 24\"\n",
              "       width=\"24px\">\n",
              "    <path d=\"M0 0h24v24H0V0z\" fill=\"none\"/>\n",
              "    <path d=\"M18.56 5.44l.94 2.06.94-2.06 2.06-.94-2.06-.94-.94-2.06-.94 2.06-2.06.94zm-11 1L8.5 8.5l.94-2.06 2.06-.94-2.06-.94L8.5 2.5l-.94 2.06-2.06.94zm10 10l.94 2.06.94-2.06 2.06-.94-2.06-.94-.94-2.06-.94 2.06-2.06.94z\"/><path d=\"M17.41 7.96l-1.37-1.37c-.4-.4-.92-.59-1.43-.59-.52 0-1.04.2-1.43.59L10.3 9.45l-7.72 7.72c-.78.78-.78 2.05 0 2.83L4 21.41c.39.39.9.59 1.41.59.51 0 1.02-.2 1.41-.59l7.78-7.78 2.81-2.81c.8-.78.8-2.07 0-2.86zM5.41 20L4 18.59l7.72-7.72 1.47 1.35L5.41 20z\"/>\n",
              "  </svg>\n",
              "      </button>\n",
              "      \n",
              "  <style>\n",
              "    .colab-df-container {\n",
              "      display:flex;\n",
              "      flex-wrap:wrap;\n",
              "      gap: 12px;\n",
              "    }\n",
              "\n",
              "    .colab-df-convert {\n",
              "      background-color: #E8F0FE;\n",
              "      border: none;\n",
              "      border-radius: 50%;\n",
              "      cursor: pointer;\n",
              "      display: none;\n",
              "      fill: #1967D2;\n",
              "      height: 32px;\n",
              "      padding: 0 0 0 0;\n",
              "      width: 32px;\n",
              "    }\n",
              "\n",
              "    .colab-df-convert:hover {\n",
              "      background-color: #E2EBFA;\n",
              "      box-shadow: 0px 1px 2px rgba(60, 64, 67, 0.3), 0px 1px 3px 1px rgba(60, 64, 67, 0.15);\n",
              "      fill: #174EA6;\n",
              "    }\n",
              "\n",
              "    [theme=dark] .colab-df-convert {\n",
              "      background-color: #3B4455;\n",
              "      fill: #D2E3FC;\n",
              "    }\n",
              "\n",
              "    [theme=dark] .colab-df-convert:hover {\n",
              "      background-color: #434B5C;\n",
              "      box-shadow: 0px 1px 3px 1px rgba(0, 0, 0, 0.15);\n",
              "      filter: drop-shadow(0px 1px 2px rgba(0, 0, 0, 0.3));\n",
              "      fill: #FFFFFF;\n",
              "    }\n",
              "  </style>\n",
              "\n",
              "      <script>\n",
              "        const buttonEl =\n",
              "          document.querySelector('#df-6a629f87-6c90-4d12-a7e4-b713b53c881f button.colab-df-convert');\n",
              "        buttonEl.style.display =\n",
              "          google.colab.kernel.accessAllowed ? 'block' : 'none';\n",
              "\n",
              "        async function convertToInteractive(key) {\n",
              "          const element = document.querySelector('#df-6a629f87-6c90-4d12-a7e4-b713b53c881f');\n",
              "          const dataTable =\n",
              "            await google.colab.kernel.invokeFunction('convertToInteractive',\n",
              "                                                     [key], {});\n",
              "          if (!dataTable) return;\n",
              "\n",
              "          const docLinkHtml = 'Like what you see? Visit the ' +\n",
              "            '<a target=\"_blank\" href=https://colab.research.google.com/notebooks/data_table.ipynb>data table notebook</a>'\n",
              "            + ' to learn more about interactive tables.';\n",
              "          element.innerHTML = '';\n",
              "          dataTable['output_type'] = 'display_data';\n",
              "          await google.colab.output.renderOutput(dataTable, element);\n",
              "          const docLink = document.createElement('div');\n",
              "          docLink.innerHTML = docLinkHtml;\n",
              "          element.appendChild(docLink);\n",
              "        }\n",
              "      </script>\n",
              "    </div>\n",
              "  </div>\n",
              "  "
            ]
          },
          "metadata": {},
          "execution_count": 5
        }
      ],
      "source": [
        "#Test Your Zaka\n",
        "data.describe()"
      ]
    },
    {
      "cell_type": "markdown",
      "metadata": {
        "id": "-C6DoqLJkZaJ"
      },
      "source": [
        "#### Data Imbalance Checking\n",
        "\n",
        "First, let's see how many smokers vs non-smokers we have."
      ]
    },
    {
      "cell_type": "code",
      "execution_count": null,
      "metadata": {
        "colab": {
          "base_uri": "https://localhost:8080/",
          "height": 332
        },
        "id": "2bYxq0B4m4eg",
        "outputId": "bf66d551-f22c-4604-b86d-8e0aa70d3580"
      },
      "outputs": [
        {
          "output_type": "stream",
          "name": "stdout",
          "text": [
            "Smokers count= 274 \n",
            "Non_smokers count= 1064\n"
          ]
        },
        {
          "output_type": "display_data",
          "data": {
            "text/plain": [
              "<Figure size 432x288 with 1 Axes>"
            ],
            "image/png": "[encoded data removed]"
          },
          "metadata": {
            "needs_background": "light"
          }
        }
      ],
      "source": [
        "#Test Your Zaka\n",
        "\n",
        "# select smokers \n",
        "smokers = data[(data.smoker == \"yes\")]\n",
        "smokers_count=len(smokers)\n",
        "\n",
        "# select non smokers\n",
        "non_smokers = data[(data.smoker == \"no\")]\n",
        "non_smokers_count=len(non_smokers)\n",
        "\n",
        "print(f\"Smokers count= {smokers_count} \\nNon_smokers count= {non_smokers_count}\")\n",
        "\n",
        "plt.hist(smokers['smoker'], color='r', label='smoker')\n",
        "plt.hist(non_smokers['smoker'], color='b', label='non_smoker')\n",
        "plt.title(\"Distribution of smokers and non_smokers\")\n",
        "plt.xlabel(\"Smokers Vs Non-Smokers\")\n",
        "plt.ylabel(\"Frequency\")\n",
        "plt.legend()\n",
        "plt.show()\n"
      ]
    },
    {
      "cell_type": "markdown",
      "metadata": {
        "id": "ubd9V3ulRbqY"
      },
      "source": [
        "We have an imbalance that we will fix later."
      ]
    },
    {
      "cell_type": "markdown",
      "metadata": {
        "id": "yzGzI6TbaSbB"
      },
      "source": [
        "Let's see how much each feature tells us about a person being  a smoker or not.\n",
        "For each of your numerical features, plot the distribution for the smokers and the non smokers case. "
      ]
    },
    {
      "cell_type": "code",
      "execution_count": null,
      "metadata": {
        "colab": {
          "base_uri": "https://localhost:8080/",
          "height": 1000
        },
        "id": "albiV9oTXWye",
        "outputId": "b6b52b58-7ed3-4fb7-eff0-ee76abfdd7c0"
      },
      "outputs": [
        {
          "output_type": "display_data",
          "data": {
            "text/plain": [
              "<Figure size 360x1800 with 1 Axes>"
            ],
            "image/png": "[encoded data removed]"
          },
          "metadata": {
            "needs_background": "light"
          }
        },
        {
          "output_type": "display_data",
          "data": {
            "text/plain": [
              "<Figure size 360x1800 with 1 Axes>"
            ],
            "image/png": "[encoded data removed]"
          },
          "metadata": {
            "needs_background": "light"
          }
        },
        {
          "output_type": "display_data",
          "data": {
            "text/plain": [
              "<Figure size 360x1800 with 1 Axes>"
            ],
            "image/png": "[encoded data removed]"
          },
          "metadata": {
            "needs_background": "light"
          }
        },
        {
          "output_type": "display_data",
          "data": {
            "text/plain": [
              "<Figure size 360x1800 with 1 Axes>"
            ],
            "image/png": "[encoded data removed]"
          },
          "metadata": {
            "needs_background": "light"
          }
        }
      ],
      "source": [
        "#Test Your Zaka\n",
        "num_features=data.describe().keys()\n",
        "for i in range(len(num_features)):\n",
        "    plt.figure(figsize=(5,25)) \n",
        "    plt.subplot(len(num_features),1,i+1)   \n",
        "    plt.hist(non_smokers[num_features[i]], color='b',label=\"Non-Smokers\")\n",
        "    plt.hist(smokers[num_features[i]], color='r', label=\"Smokers\")\n",
        "    plt.title(f\"Distribution of {num_features[i]} between Smokers and Non-smokers\")\n",
        "    plt.xlabel(num_features[i])\n",
        "    plt.ylabel(\"Frequency\")\n",
        "    plt.legend()\n",
        "    plt.show()"
      ]
    },
    {
      "cell_type": "markdown",
      "metadata": {
        "id": "YWa8eagVZwLg"
      },
      "source": [
        "WHat do you think is the feature that tells us the most about a person being smoker or not?"
      ]
    },
    {
      "cell_type": "markdown",
      "metadata": {
        "id": "u35V2azRs1Zs"
      },
      "source": [
        "**\"Charges\" is the feature that tell us the most about a person being a smoker or not, as there is a huge difference between the amounts paid by non-smokers(mean around 8434) vs smokers(mean around 32050)**"
      ]
    },
    {
      "cell_type": "markdown",
      "metadata": {
        "id": "5gjS7Ss5aji3"
      },
      "source": [
        "Now let's see if the gender influences being a smoker or not.\n",
        "<br>Hint: You can use crosstabbing and then plot distributions"
      ]
    },
    {
      "cell_type": "code",
      "execution_count": null,
      "metadata": {
        "colab": {
          "base_uri": "https://localhost:8080/",
          "height": 386
        },
        "id": "defv0Lx4aqDy",
        "outputId": "99778aa2-af2d-47b1-a6c1-d210b793a52d"
      },
      "outputs": [
        {
          "output_type": "stream",
          "name": "stdout",
          "text": [
            "smoker   no  yes\n",
            "sex             \n",
            "female  547  115\n",
            "male    517  159\n"
          ]
        },
        {
          "output_type": "execute_result",
          "data": {
            "text/plain": [
              "Text(0.5, 1.0, 'Smoking Status According to Genders')"
            ]
          },
          "metadata": {},
          "execution_count": 172
        },
        {
          "output_type": "display_data",
          "data": {
            "text/plain": [
              "<Figure size 432x288 with 1 Axes>"
            ],
            "image/png": "[encoded data removed]"
          },
          "metadata": {
            "needs_background": "light"
          }
        }
      ],
      "source": [
        "#Test Your Zaka\n",
        "# Creating crosstab\n",
        "crosstb = pd.crosstab(data[\"sex\"],data[\"smoker\"])\n",
        "print(crosstb)\n",
        "# Creating barplot\n",
        "barplot = crosstb.plot.bar(rot=0)\n",
        "barplot.set_title('Smoking Status According to Genders')"
      ]
    },
    {
      "cell_type": "markdown",
      "metadata": {
        "id": "PELhantCbEGV"
      },
      "source": [
        "Do you think the gender has an effect on smoking according to your results?"
      ]
    },
    {
      "cell_type": "markdown",
      "metadata": {
        "id": "BbuCA54aumYz"
      },
      "source": [
        "**Gender has slight effect on smoking since the percentages of being smoker or not for females and males are close to each other**"
      ]
    },
    {
      "cell_type": "markdown",
      "metadata": {
        "id": "nNG_bxWkuvkI"
      },
      "source": [
        "Do the same for the column 'region'"
      ]
    },
    {
      "cell_type": "code",
      "execution_count": null,
      "metadata": {
        "colab": {
          "base_uri": "https://localhost:8080/",
          "height": 423
        },
        "id": "RteNFVg-b-lj",
        "outputId": "21f8fe5b-b073-4c0f-e883-e2018adb1cef"
      },
      "outputs": [
        {
          "output_type": "stream",
          "name": "stdout",
          "text": [
            "smoker      no  yes\n",
            "region             \n",
            "northeast  257   67\n",
            "northwest  267   58\n",
            "southeast  273   91\n",
            "southwest  267   58\n"
          ]
        },
        {
          "output_type": "execute_result",
          "data": {
            "text/plain": [
              "Text(0.5, 1.0, 'Smoking Status According to Regions')"
            ]
          },
          "metadata": {},
          "execution_count": 173
        },
        {
          "output_type": "display_data",
          "data": {
            "text/plain": [
              "<Figure size 432x288 with 1 Axes>"
            ],
            "image/png": "[encoded data removed]"
          },
          "metadata": {
            "needs_background": "light"
          }
        }
      ],
      "source": [
        "#Test Your Zaka\n",
        "# Creating crosstab\n",
        "crosstb2 = pd.crosstab(data[\"region\"],data[\"smoker\"])\n",
        "print(crosstb2)\n",
        "# Creating barplot\n",
        "barplot = crosstb2.plot.bar(rot=0)\n",
        "barplot.set_title('Smoking Status According to Regions')"
      ]
    },
    {
      "cell_type": "markdown",
      "metadata": {
        "id": "0II7u47uKflo"
      },
      "source": [
        "**Region has no important effect on smoking status either**"
      ]
    },
    {
      "cell_type": "markdown",
      "metadata": {
        "id": "g3X3fDBXnX16"
      },
      "source": [
        "## 3. Data Preprocessing\n",
        "\"Garbage in, garbage out\". \n",
        "\n",
        "Data should be preprocessed and cleaned to get rid of noisy data. \n",
        "Preprocessing includes:\n",
        " - dealing with missing data\n",
        "   - remove whole rows (if they are not a lot)\n",
        "   - infer (e.g., date of birth & age)\n",
        "   - fill with mean, median, or even 0\n",
        " - removing unsued column(s)\n",
        " - convert categorical (non numerical) data into numerical\n",
        " - normalization: standarize data ranges for all features (e.g., between 0 and 1)\n",
        "\n",
        "\n",
        "\n",
        "---\n",
        "\n",
        "\n",
        "\n",
        " Let's start by seeing if we have missing data."
      ]
    },
    {
      "cell_type": "code",
      "execution_count": null,
      "metadata": {
        "colab": {
          "base_uri": "https://localhost:8080/"
        },
        "id": "mslOEw7wmf_N",
        "outputId": "2ed7120b-7910-4bb3-afe1-93cd9bbcc9f1"
      },
      "outputs": [
        {
          "output_type": "execute_result",
          "data": {
            "text/plain": [
              "age         0\n",
              "sex         0\n",
              "bmi         3\n",
              "children    0\n",
              "smoker      0\n",
              "region      0\n",
              "charges     0\n",
              "dtype: int64"
            ]
          },
          "metadata": {},
          "execution_count": 8
        }
      ],
      "source": [
        "#Test Your Zaka\n",
        "data.isnull().sum()\n",
        "#only 3 missing values for bmi"
      ]
    },
    {
      "cell_type": "markdown",
      "metadata": {
        "id": "2nC4WKW5u_Ka"
      },
      "source": [
        "Drop rows with missing values, and make sure you have no nulls anymore."
      ]
    },
    {
      "cell_type": "code",
      "execution_count": null,
      "metadata": {
        "colab": {
          "base_uri": "https://localhost:8080/"
        },
        "id": "ZXvduiy1nckz",
        "outputId": "eb4a0b04-180b-4f4b-9039-3eac658a5c41"
      },
      "outputs": [
        {
          "output_type": "execute_result",
          "data": {
            "text/plain": [
              "age         0\n",
              "sex         0\n",
              "bmi         0\n",
              "children    0\n",
              "smoker      0\n",
              "region      0\n",
              "charges     0\n",
              "dtype: int64"
            ]
          },
          "metadata": {},
          "execution_count": 9
        }
      ],
      "source": [
        "#Test Your Zaka\n",
        "data=data.dropna()\n",
        "data.isnull().sum()"
      ]
    },
    {
      "cell_type": "markdown",
      "metadata": {
        "id": "T0_-xq9PvHFF"
      },
      "source": [
        "See the type of each of your columns"
      ]
    },
    {
      "cell_type": "code",
      "execution_count": null,
      "metadata": {
        "colab": {
          "base_uri": "https://localhost:8080/"
        },
        "id": "bSEzYUz-nevs",
        "outputId": "c6e50b2a-bee3-4040-f2a2-4d530fb45044"
      },
      "outputs": [
        {
          "output_type": "stream",
          "name": "stdout",
          "text": [
            "<class 'pandas.core.frame.DataFrame'>\n",
            "Int64Index: 1335 entries, 0 to 1337\n",
            "Data columns (total 7 columns):\n",
            " #   Column    Non-Null Count  Dtype  \n",
            "---  ------    --------------  -----  \n",
            " 0   age       1335 non-null   int64  \n",
            " 1   sex       1335 non-null   object \n",
            " 2   bmi       1335 non-null   float64\n",
            " 3   children  1335 non-null   int64  \n",
            " 4   smoker    1335 non-null   object \n",
            " 5   region    1335 non-null   object \n",
            " 6   charges   1335 non-null   float64\n",
            "dtypes: float64(2), int64(2), object(3)\n",
            "memory usage: 83.4+ KB\n"
          ]
        }
      ],
      "source": [
        "#Test Your Zaka\n",
        "data.info()\n",
        "## age, bmi, children,charges are numerical features\n",
        "## sex, region are categorical"
      ]
    },
    {
      "cell_type": "markdown",
      "metadata": {
        "id": "VGcXlEP6ryIZ"
      },
      "source": [
        "#### Convert Categorical columns to numerical\n",
        "\n",
        "*   We need to convert the sex column from male/female to 0/1.\n",
        "*   We need to convert the smoker column from no/yes to 0/1.\n",
        "\n",
        "\n",
        "Let's start with the sex column\n",
        "\n"
      ]
    },
    {
      "cell_type": "code",
      "execution_count": null,
      "metadata": {
        "colab": {
          "base_uri": "https://localhost:8080/",
          "height": 206
        },
        "id": "cpEbrz7HnfuY",
        "outputId": "56a500d7-4349-4433-dde7-a68a15e73c70"
      },
      "outputs": [
        {
          "output_type": "execute_result",
          "data": {
            "text/plain": [
              "   age  sex     bmi  children smoker     region      charges\n",
              "0   19    1  27.900         0    yes  southwest  16884.92400\n",
              "1   18    0  33.770         1     no  southeast   1725.55230\n",
              "2   28    0  33.000         3     no  southeast   4449.46200\n",
              "3   33    0  22.705         0     no  northwest  21984.47061\n",
              "4   32    0  28.880         0     no  northwest   3866.85520"
            ],
            "text/html": [
              "\n",
              "  <div id=\"df-18de7ceb-3718-43b5-bb82-4a4cd077047a\">\n",
              "    <div class=\"colab-df-container\">\n",
              "      <div>\n",
              "<style scoped>\n",
              "    .dataframe tbody tr th:only-of-type {\n",
              "        vertical-align: middle;\n",
              "    }\n",
              "\n",
              "    .dataframe tbody tr th {\n",
              "        vertical-align: top;\n",
              "    }\n",
              "\n",
              "    .dataframe thead th {\n",
              "        text-align: right;\n",
              "    }\n",
              "</style>\n",
              "<table border=\"1\" class=\"dataframe\">\n",
              "  <thead>\n",
              "    <tr style=\"text-align: right;\">\n",
              "      <th></th>\n",
              "      <th>age</th>\n",
              "      <th>sex</th>\n",
              "      <th>bmi</th>\n",
              "      <th>children</th>\n",
              "      <th>smoker</th>\n",
              "      <th>region</th>\n",
              "      <th>charges</th>\n",
              "    </tr>\n",
              "  </thead>\n",
              "  <tbody>\n",
              "    <tr>\n",
              "      <th>0</th>\n",
              "      <td>19</td>\n",
              "      <td>1</td>\n",
              "      <td>27.900</td>\n",
              "      <td>0</td>\n",
              "      <td>yes</td>\n",
              "      <td>southwest</td>\n",
              "      <td>16884.92400</td>\n",
              "    </tr>\n",
              "    <tr>\n",
              "      <th>1</th>\n",
              "      <td>18</td>\n",
              "      <td>0</td>\n",
              "      <td>33.770</td>\n",
              "      <td>1</td>\n",
              "      <td>no</td>\n",
              "      <td>southeast</td>\n",
              "      <td>1725.55230</td>\n",
              "    </tr>\n",
              "    <tr>\n",
              "      <th>2</th>\n",
              "      <td>28</td>\n",
              "      <td>0</td>\n",
              "      <td>33.000</td>\n",
              "      <td>3</td>\n",
              "      <td>no</td>\n",
              "      <td>southeast</td>\n",
              "      <td>4449.46200</td>\n",
              "    </tr>\n",
              "    <tr>\n",
              "      <th>3</th>\n",
              "      <td>33</td>\n",
              "      <td>0</td>\n",
              "      <td>22.705</td>\n",
              "      <td>0</td>\n",
              "      <td>no</td>\n",
              "      <td>northwest</td>\n",
              "      <td>21984.47061</td>\n",
              "    </tr>\n",
              "    <tr>\n",
              "      <th>4</th>\n",
              "      <td>32</td>\n",
              "      <td>0</td>\n",
              "      <td>28.880</td>\n",
              "      <td>0</td>\n",
              "      <td>no</td>\n",
              "      <td>northwest</td>\n",
              "      <td>3866.85520</td>\n",
              "    </tr>\n",
              "  </tbody>\n",
              "</table>\n",
              "</div>\n",
              "      <button class=\"colab-df-convert\" onclick=\"convertToInteractive('df-18de7ceb-3718-43b5-bb82-4a4cd077047a')\"\n",
              "              title=\"Convert this dataframe to an interactive table.\"\n",
              "              style=\"display:none;\">\n",
              "        \n",
              "  <svg xmlns=\"http://www.w3.org/2000/svg\" height=\"24px\"viewBox=\"0 0 24 24\"\n",
              "       width=\"24px\">\n",
              "    <path d=\"M0 0h24v24H0V0z\" fill=\"none\"/>\n",
              "    <path d=\"M18.56 5.44l.94 2.06.94-2.06 2.06-.94-2.06-.94-.94-2.06-.94 2.06-2.06.94zm-11 1L8.5 8.5l.94-2.06 2.06-.94-2.06-.94L8.5 2.5l-.94 2.06-2.06.94zm10 10l.94 2.06.94-2.06 2.06-.94-2.06-.94-.94-2.06-.94 2.06-2.06.94z\"/><path d=\"M17.41 7.96l-1.37-1.37c-.4-.4-.92-.59-1.43-.59-.52 0-1.04.2-1.43.59L10.3 9.45l-7.72 7.72c-.78.78-.78 2.05 0 2.83L4 21.41c.39.39.9.59 1.41.59.51 0 1.02-.2 1.41-.59l7.78-7.78 2.81-2.81c.8-.78.8-2.07 0-2.86zM5.41 20L4 18.59l7.72-7.72 1.47 1.35L5.41 20z\"/>\n",
              "  </svg>\n",
              "      </button>\n",
              "      \n",
              "  <style>\n",
              "    .colab-df-container {\n",
              "      display:flex;\n",
              "      flex-wrap:wrap;\n",
              "      gap: 12px;\n",
              "    }\n",
              "\n",
              "    .colab-df-convert {\n",
              "      background-color: #E8F0FE;\n",
              "      border: none;\n",
              "      border-radius: 50%;\n",
              "      cursor: pointer;\n",
              "      display: none;\n",
              "      fill: #1967D2;\n",
              "      height: 32px;\n",
              "      padding: 0 0 0 0;\n",
              "      width: 32px;\n",
              "    }\n",
              "\n",
              "    .colab-df-convert:hover {\n",
              "      background-color: #E2EBFA;\n",
              "      box-shadow: 0px 1px 2px rgba(60, 64, 67, 0.3), 0px 1px 3px 1px rgba(60, 64, 67, 0.15);\n",
              "      fill: #174EA6;\n",
              "    }\n",
              "\n",
              "    [theme=dark] .colab-df-convert {\n",
              "      background-color: #3B4455;\n",
              "      fill: #D2E3FC;\n",
              "    }\n",
              "\n",
              "    [theme=dark] .colab-df-convert:hover {\n",
              "      background-color: #434B5C;\n",
              "      box-shadow: 0px 1px 3px 1px rgba(0, 0, 0, 0.15);\n",
              "      filter: drop-shadow(0px 1px 2px rgba(0, 0, 0, 0.3));\n",
              "      fill: #FFFFFF;\n",
              "    }\n",
              "  </style>\n",
              "\n",
              "      <script>\n",
              "        const buttonEl =\n",
              "          document.querySelector('#df-18de7ceb-3718-43b5-bb82-4a4cd077047a button.colab-df-convert');\n",
              "        buttonEl.style.display =\n",
              "          google.colab.kernel.accessAllowed ? 'block' : 'none';\n",
              "\n",
              "        async function convertToInteractive(key) {\n",
              "          const element = document.querySelector('#df-18de7ceb-3718-43b5-bb82-4a4cd077047a');\n",
              "          const dataTable =\n",
              "            await google.colab.kernel.invokeFunction('convertToInteractive',\n",
              "                                                     [key], {});\n",
              "          if (!dataTable) return;\n",
              "\n",
              "          const docLinkHtml = 'Like what you see? Visit the ' +\n",
              "            '<a target=\"_blank\" href=https://colab.research.google.com/notebooks/data_table.ipynb>data table notebook</a>'\n",
              "            + ' to learn more about interactive tables.';\n",
              "          element.innerHTML = '';\n",
              "          dataTable['output_type'] = 'display_data';\n",
              "          await google.colab.output.renderOutput(dataTable, element);\n",
              "          const docLink = document.createElement('div');\n",
              "          docLink.innerHTML = docLinkHtml;\n",
              "          element.appendChild(docLink);\n",
              "        }\n",
              "      </script>\n",
              "    </div>\n",
              "  </div>\n",
              "  "
            ]
          },
          "metadata": {},
          "execution_count": 11
        }
      ],
      "source": [
        "#Test Your Zaka\n",
        "data['sex'].replace({\"male\":0, \"female\":1}, inplace=True)\n",
        "data.head()"
      ]
    },
    {
      "cell_type": "markdown",
      "metadata": {
        "id": "AuX-fpHesgmi"
      },
      "source": [
        "And now the smokers column"
      ]
    },
    {
      "cell_type": "code",
      "execution_count": null,
      "metadata": {
        "colab": {
          "base_uri": "https://localhost:8080/",
          "height": 206
        },
        "id": "LfU8gCe7sCDS",
        "outputId": "f5b32ddc-15e7-4ed5-8ede-a5ab8975ee58"
      },
      "outputs": [
        {
          "output_type": "execute_result",
          "data": {
            "text/plain": [
              "   age  sex     bmi  children  smoker  region      charges\n",
              "0   19    1  27.900         0       1       3  16884.92400\n",
              "1   18    0  33.770         1       0       0   1725.55230\n",
              "2   28    0  33.000         3       0       0   4449.46200\n",
              "3   33    0  22.705         0       0       1  21984.47061\n",
              "4   32    0  28.880         0       0       1   3866.85520"
            ],
            "text/html": [
              "\n",
              "  <div id=\"df-be8da650-e164-42ec-a811-6cf0c3885a08\">\n",
              "    <div class=\"colab-df-container\">\n",
              "      <div>\n",
              "<style scoped>\n",
              "    .dataframe tbody tr th:only-of-type {\n",
              "        vertical-align: middle;\n",
              "    }\n",
              "\n",
              "    .dataframe tbody tr th {\n",
              "        vertical-align: top;\n",
              "    }\n",
              "\n",
              "    .dataframe thead th {\n",
              "        text-align: right;\n",
              "    }\n",
              "</style>\n",
              "<table border=\"1\" class=\"dataframe\">\n",
              "  <thead>\n",
              "    <tr style=\"text-align: right;\">\n",
              "      <th></th>\n",
              "      <th>age</th>\n",
              "      <th>sex</th>\n",
              "      <th>bmi</th>\n",
              "      <th>children</th>\n",
              "      <th>smoker</th>\n",
              "      <th>region</th>\n",
              "      <th>charges</th>\n",
              "    </tr>\n",
              "  </thead>\n",
              "  <tbody>\n",
              "    <tr>\n",
              "      <th>0</th>\n",
              "      <td>19</td>\n",
              "      <td>1</td>\n",
              "      <td>27.900</td>\n",
              "      <td>0</td>\n",
              "      <td>1</td>\n",
              "      <td>3</td>\n",
              "      <td>16884.92400</td>\n",
              "    </tr>\n",
              "    <tr>\n",
              "      <th>1</th>\n",
              "      <td>18</td>\n",
              "      <td>0</td>\n",
              "      <td>33.770</td>\n",
              "      <td>1</td>\n",
              "      <td>0</td>\n",
              "      <td>0</td>\n",
              "      <td>1725.55230</td>\n",
              "    </tr>\n",
              "    <tr>\n",
              "      <th>2</th>\n",
              "      <td>28</td>\n",
              "      <td>0</td>\n",
              "      <td>33.000</td>\n",
              "      <td>3</td>\n",
              "      <td>0</td>\n",
              "      <td>0</td>\n",
              "      <td>4449.46200</td>\n",
              "    </tr>\n",
              "    <tr>\n",
              "      <th>3</th>\n",
              "      <td>33</td>\n",
              "      <td>0</td>\n",
              "      <td>22.705</td>\n",
              "      <td>0</td>\n",
              "      <td>0</td>\n",
              "      <td>1</td>\n",
              "      <td>21984.47061</td>\n",
              "    </tr>\n",
              "    <tr>\n",
              "      <th>4</th>\n",
              "      <td>32</td>\n",
              "      <td>0</td>\n",
              "      <td>28.880</td>\n",
              "      <td>0</td>\n",
              "      <td>0</td>\n",
              "      <td>1</td>\n",
              "      <td>3866.85520</td>\n",
              "    </tr>\n",
              "  </tbody>\n",
              "</table>\n",
              "</div>\n",
              "      <button class=\"colab-df-convert\" onclick=\"convertToInteractive('df-be8da650-e164-42ec-a811-6cf0c3885a08')\"\n",
              "              title=\"Convert this dataframe to an interactive table.\"\n",
              "              style=\"display:none;\">\n",
              "        \n",
              "  <svg xmlns=\"http://www.w3.org/2000/svg\" height=\"24px\"viewBox=\"0 0 24 24\"\n",
              "       width=\"24px\">\n",
              "    <path d=\"M0 0h24v24H0V0z\" fill=\"none\"/>\n",
              "    <path d=\"M18.56 5.44l.94 2.06.94-2.06 2.06-.94-2.06-.94-.94-2.06-.94 2.06-2.06.94zm-11 1L8.5 8.5l.94-2.06 2.06-.94-2.06-.94L8.5 2.5l-.94 2.06-2.06.94zm10 10l.94 2.06.94-2.06 2.06-.94-2.06-.94-.94-2.06-.94 2.06-2.06.94z\"/><path d=\"M17.41 7.96l-1.37-1.37c-.4-.4-.92-.59-1.43-.59-.52 0-1.04.2-1.43.59L10.3 9.45l-7.72 7.72c-.78.78-.78 2.05 0 2.83L4 21.41c.39.39.9.59 1.41.59.51 0 1.02-.2 1.41-.59l7.78-7.78 2.81-2.81c.8-.78.8-2.07 0-2.86zM5.41 20L4 18.59l7.72-7.72 1.47 1.35L5.41 20z\"/>\n",
              "  </svg>\n",
              "      </button>\n",
              "      \n",
              "  <style>\n",
              "    .colab-df-container {\n",
              "      display:flex;\n",
              "      flex-wrap:wrap;\n",
              "      gap: 12px;\n",
              "    }\n",
              "\n",
              "    .colab-df-convert {\n",
              "      background-color: #E8F0FE;\n",
              "      border: none;\n",
              "      border-radius: 50%;\n",
              "      cursor: pointer;\n",
              "      display: none;\n",
              "      fill: #1967D2;\n",
              "      height: 32px;\n",
              "      padding: 0 0 0 0;\n",
              "      width: 32px;\n",
              "    }\n",
              "\n",
              "    .colab-df-convert:hover {\n",
              "      background-color: #E2EBFA;\n",
              "      box-shadow: 0px 1px 2px rgba(60, 64, 67, 0.3), 0px 1px 3px 1px rgba(60, 64, 67, 0.15);\n",
              "      fill: #174EA6;\n",
              "    }\n",
              "\n",
              "    [theme=dark] .colab-df-convert {\n",
              "      background-color: #3B4455;\n",
              "      fill: #D2E3FC;\n",
              "    }\n",
              "\n",
              "    [theme=dark] .colab-df-convert:hover {\n",
              "      background-color: #434B5C;\n",
              "      box-shadow: 0px 1px 3px 1px rgba(0, 0, 0, 0.15);\n",
              "      filter: drop-shadow(0px 1px 2px rgba(0, 0, 0, 0.3));\n",
              "      fill: #FFFFFF;\n",
              "    }\n",
              "  </style>\n",
              "\n",
              "      <script>\n",
              "        const buttonEl =\n",
              "          document.querySelector('#df-be8da650-e164-42ec-a811-6cf0c3885a08 button.colab-df-convert');\n",
              "        buttonEl.style.display =\n",
              "          google.colab.kernel.accessAllowed ? 'block' : 'none';\n",
              "\n",
              "        async function convertToInteractive(key) {\n",
              "          const element = document.querySelector('#df-be8da650-e164-42ec-a811-6cf0c3885a08');\n",
              "          const dataTable =\n",
              "            await google.colab.kernel.invokeFunction('convertToInteractive',\n",
              "                                                     [key], {});\n",
              "          if (!dataTable) return;\n",
              "\n",
              "          const docLinkHtml = 'Like what you see? Visit the ' +\n",
              "            '<a target=\"_blank\" href=https://colab.research.google.com/notebooks/data_table.ipynb>data table notebook</a>'\n",
              "            + ' to learn more about interactive tables.';\n",
              "          element.innerHTML = '';\n",
              "          dataTable['output_type'] = 'display_data';\n",
              "          await google.colab.output.renderOutput(dataTable, element);\n",
              "          const docLink = document.createElement('div');\n",
              "          docLink.innerHTML = docLinkHtml;\n",
              "          element.appendChild(docLink);\n",
              "        }\n",
              "      </script>\n",
              "    </div>\n",
              "  </div>\n",
              "  "
            ]
          },
          "metadata": {},
          "execution_count": 14
        }
      ],
      "source": [
        "#Test Your Zaka\n",
        "data['smoker'].replace({\"no\":0,\"yes\":1}, inplace=True)\n",
        "data.head()"
      ]
    },
    {
      "cell_type": "markdown",
      "metadata": {
        "id": "7ovM89R-eYCi"
      },
      "source": [
        "And now the Region Column"
      ]
    },
    {
      "cell_type": "code",
      "execution_count": null,
      "metadata": {
        "colab": {
          "base_uri": "https://localhost:8080/",
          "height": 297
        },
        "id": "Ug0gruFnebxI",
        "outputId": "9b4815d5-975f-4785-9c19-347d7f9d77f5"
      },
      "outputs": [
        {
          "output_type": "stream",
          "name": "stdout",
          "text": [
            "southeast    364\n",
            "northwest    324\n",
            "northeast    324\n",
            "southwest    323\n",
            "Name: region, dtype: int64\n"
          ]
        },
        {
          "output_type": "execute_result",
          "data": {
            "text/plain": [
              "   age  sex     bmi  children  smoker  region      charges\n",
              "0   19    1  27.900         0       1       3  16884.92400\n",
              "1   18    0  33.770         1       0       0   1725.55230\n",
              "2   28    0  33.000         3       0       0   4449.46200\n",
              "3   33    0  22.705         0       0       1  21984.47061\n",
              "4   32    0  28.880         0       0       1   3866.85520"
            ],
            "text/html": [
              "\n",
              "  <div id=\"df-a25c3b08-b9a7-4581-bfdf-185dca8624cb\">\n",
              "    <div class=\"colab-df-container\">\n",
              "      <div>\n",
              "<style scoped>\n",
              "    .dataframe tbody tr th:only-of-type {\n",
              "        vertical-align: middle;\n",
              "    }\n",
              "\n",
              "    .dataframe tbody tr th {\n",
              "        vertical-align: top;\n",
              "    }\n",
              "\n",
              "    .dataframe thead th {\n",
              "        text-align: right;\n",
              "    }\n",
              "</style>\n",
              "<table border=\"1\" class=\"dataframe\">\n",
              "  <thead>\n",
              "    <tr style=\"text-align: right;\">\n",
              "      <th></th>\n",
              "      <th>age</th>\n",
              "      <th>sex</th>\n",
              "      <th>bmi</th>\n",
              "      <th>children</th>\n",
              "      <th>smoker</th>\n",
              "      <th>region</th>\n",
              "      <th>charges</th>\n",
              "    </tr>\n",
              "  </thead>\n",
              "  <tbody>\n",
              "    <tr>\n",
              "      <th>0</th>\n",
              "      <td>19</td>\n",
              "      <td>1</td>\n",
              "      <td>27.900</td>\n",
              "      <td>0</td>\n",
              "      <td>1</td>\n",
              "      <td>3</td>\n",
              "      <td>16884.92400</td>\n",
              "    </tr>\n",
              "    <tr>\n",
              "      <th>1</th>\n",
              "      <td>18</td>\n",
              "      <td>0</td>\n",
              "      <td>33.770</td>\n",
              "      <td>1</td>\n",
              "      <td>0</td>\n",
              "      <td>0</td>\n",
              "      <td>1725.55230</td>\n",
              "    </tr>\n",
              "    <tr>\n",
              "      <th>2</th>\n",
              "      <td>28</td>\n",
              "      <td>0</td>\n",
              "      <td>33.000</td>\n",
              "      <td>3</td>\n",
              "      <td>0</td>\n",
              "      <td>0</td>\n",
              "      <td>4449.46200</td>\n",
              "    </tr>\n",
              "    <tr>\n",
              "      <th>3</th>\n",
              "      <td>33</td>\n",
              "      <td>0</td>\n",
              "      <td>22.705</td>\n",
              "      <td>0</td>\n",
              "      <td>0</td>\n",
              "      <td>1</td>\n",
              "      <td>21984.47061</td>\n",
              "    </tr>\n",
              "    <tr>\n",
              "      <th>4</th>\n",
              "      <td>32</td>\n",
              "      <td>0</td>\n",
              "      <td>28.880</td>\n",
              "      <td>0</td>\n",
              "      <td>0</td>\n",
              "      <td>1</td>\n",
              "      <td>3866.85520</td>\n",
              "    </tr>\n",
              "  </tbody>\n",
              "</table>\n",
              "</div>\n",
              "      <button class=\"colab-df-convert\" onclick=\"convertToInteractive('df-a25c3b08-b9a7-4581-bfdf-185dca8624cb')\"\n",
              "              title=\"Convert this dataframe to an interactive table.\"\n",
              "              style=\"display:none;\">\n",
              "        \n",
              "  <svg xmlns=\"http://www.w3.org/2000/svg\" height=\"24px\"viewBox=\"0 0 24 24\"\n",
              "       width=\"24px\">\n",
              "    <path d=\"M0 0h24v24H0V0z\" fill=\"none\"/>\n",
              "    <path d=\"M18.56 5.44l.94 2.06.94-2.06 2.06-.94-2.06-.94-.94-2.06-.94 2.06-2.06.94zm-11 1L8.5 8.5l.94-2.06 2.06-.94-2.06-.94L8.5 2.5l-.94 2.06-2.06.94zm10 10l.94 2.06.94-2.06 2.06-.94-2.06-.94-.94-2.06-.94 2.06-2.06.94z\"/><path d=\"M17.41 7.96l-1.37-1.37c-.4-.4-.92-.59-1.43-.59-.52 0-1.04.2-1.43.59L10.3 9.45l-7.72 7.72c-.78.78-.78 2.05 0 2.83L4 21.41c.39.39.9.59 1.41.59.51 0 1.02-.2 1.41-.59l7.78-7.78 2.81-2.81c.8-.78.8-2.07 0-2.86zM5.41 20L4 18.59l7.72-7.72 1.47 1.35L5.41 20z\"/>\n",
              "  </svg>\n",
              "      </button>\n",
              "      \n",
              "  <style>\n",
              "    .colab-df-container {\n",
              "      display:flex;\n",
              "      flex-wrap:wrap;\n",
              "      gap: 12px;\n",
              "    }\n",
              "\n",
              "    .colab-df-convert {\n",
              "      background-color: #E8F0FE;\n",
              "      border: none;\n",
              "      border-radius: 50%;\n",
              "      cursor: pointer;\n",
              "      display: none;\n",
              "      fill: #1967D2;\n",
              "      height: 32px;\n",
              "      padding: 0 0 0 0;\n",
              "      width: 32px;\n",
              "    }\n",
              "\n",
              "    .colab-df-convert:hover {\n",
              "      background-color: #E2EBFA;\n",
              "      box-shadow: 0px 1px 2px rgba(60, 64, 67, 0.3), 0px 1px 3px 1px rgba(60, 64, 67, 0.15);\n",
              "      fill: #174EA6;\n",
              "    }\n",
              "\n",
              "    [theme=dark] .colab-df-convert {\n",
              "      background-color: #3B4455;\n",
              "      fill: #D2E3FC;\n",
              "    }\n",
              "\n",
              "    [theme=dark] .colab-df-convert:hover {\n",
              "      background-color: #434B5C;\n",
              "      box-shadow: 0px 1px 3px 1px rgba(0, 0, 0, 0.15);\n",
              "      filter: drop-shadow(0px 1px 2px rgba(0, 0, 0, 0.3));\n",
              "      fill: #FFFFFF;\n",
              "    }\n",
              "  </style>\n",
              "\n",
              "      <script>\n",
              "        const buttonEl =\n",
              "          document.querySelector('#df-a25c3b08-b9a7-4581-bfdf-185dca8624cb button.colab-df-convert');\n",
              "        buttonEl.style.display =\n",
              "          google.colab.kernel.accessAllowed ? 'block' : 'none';\n",
              "\n",
              "        async function convertToInteractive(key) {\n",
              "          const element = document.querySelector('#df-a25c3b08-b9a7-4581-bfdf-185dca8624cb');\n",
              "          const dataTable =\n",
              "            await google.colab.kernel.invokeFunction('convertToInteractive',\n",
              "                                                     [key], {});\n",
              "          if (!dataTable) return;\n",
              "\n",
              "          const docLinkHtml = 'Like what you see? Visit the ' +\n",
              "            '<a target=\"_blank\" href=https://colab.research.google.com/notebooks/data_table.ipynb>data table notebook</a>'\n",
              "            + ' to learn more about interactive tables.';\n",
              "          element.innerHTML = '';\n",
              "          dataTable['output_type'] = 'display_data';\n",
              "          await google.colab.output.renderOutput(dataTable, element);\n",
              "          const docLink = document.createElement('div');\n",
              "          docLink.innerHTML = docLinkHtml;\n",
              "          element.appendChild(docLink);\n",
              "        }\n",
              "      </script>\n",
              "    </div>\n",
              "  </div>\n",
              "  "
            ]
          },
          "metadata": {},
          "execution_count": 13
        }
      ],
      "source": [
        "#Test Your Zaka\n",
        "print(data[\"region\"].value_counts())\n",
        "data[\"region\"].replace({\"southeast\":0,\"northwest\":1,\"northeast\":2,\"southwest\":3}, inplace=True)\n",
        "data.head()"
      ]
    },
    {
      "cell_type": "markdown",
      "metadata": {
        "id": "uwfqKXYftiS-"
      },
      "source": [
        "#### Normalization\n",
        "\n",
        "Let's scale all the columns by dividing by the maximum"
      ]
    },
    {
      "cell_type": "code",
      "execution_count": null,
      "metadata": {
        "colab": {
          "base_uri": "https://localhost:8080/",
          "height": 206
        },
        "id": "hJrBAhytsq8c",
        "outputId": "3faffee6-aa7e-4b58-c03b-f7fbaf66300d"
      },
      "outputs": [
        {
          "output_type": "execute_result",
          "data": {
            "text/plain": [
              "        age  sex       bmi  children  smoker    region   charges\n",
              "0  0.296875  1.0  0.525127       0.0     1.0  1.000000  0.264777\n",
              "1  0.281250  0.0  0.635611       0.2     0.0  0.000000  0.027059\n",
              "2  0.437500  0.0  0.621118       0.6     0.0  0.000000  0.069773\n",
              "3  0.515625  0.0  0.427348       0.0     0.0  0.333333  0.344744\n",
              "4  0.500000  0.0  0.543572       0.0     0.0  0.333333  0.060637"
            ],
            "text/html": [
              "\n",
              "  <div id=\"df-3118b37e-f1b0-49f1-a87d-245a056115a6\">\n",
              "    <div class=\"colab-df-container\">\n",
              "      <div>\n",
              "<style scoped>\n",
              "    .dataframe tbody tr th:only-of-type {\n",
              "        vertical-align: middle;\n",
              "    }\n",
              "\n",
              "    .dataframe tbody tr th {\n",
              "        vertical-align: top;\n",
              "    }\n",
              "\n",
              "    .dataframe thead th {\n",
              "        text-align: right;\n",
              "    }\n",
              "</style>\n",
              "<table border=\"1\" class=\"dataframe\">\n",
              "  <thead>\n",
              "    <tr style=\"text-align: right;\">\n",
              "      <th></th>\n",
              "      <th>age</th>\n",
              "      <th>sex</th>\n",
              "      <th>bmi</th>\n",
              "      <th>children</th>\n",
              "      <th>smoker</th>\n",
              "      <th>region</th>\n",
              "      <th>charges</th>\n",
              "    </tr>\n",
              "  </thead>\n",
              "  <tbody>\n",
              "    <tr>\n",
              "      <th>0</th>\n",
              "      <td>0.296875</td>\n",
              "      <td>1.0</td>\n",
              "      <td>0.525127</td>\n",
              "      <td>0.0</td>\n",
              "      <td>1.0</td>\n",
              "      <td>1.000000</td>\n",
              "      <td>0.264777</td>\n",
              "    </tr>\n",
              "    <tr>\n",
              "      <th>1</th>\n",
              "      <td>0.281250</td>\n",
              "      <td>0.0</td>\n",
              "      <td>0.635611</td>\n",
              "      <td>0.2</td>\n",
              "      <td>0.0</td>\n",
              "      <td>0.000000</td>\n",
              "      <td>0.027059</td>\n",
              "    </tr>\n",
              "    <tr>\n",
              "      <th>2</th>\n",
              "      <td>0.437500</td>\n",
              "      <td>0.0</td>\n",
              "      <td>0.621118</td>\n",
              "      <td>0.6</td>\n",
              "      <td>0.0</td>\n",
              "      <td>0.000000</td>\n",
              "      <td>0.069773</td>\n",
              "    </tr>\n",
              "    <tr>\n",
              "      <th>3</th>\n",
              "      <td>0.515625</td>\n",
              "      <td>0.0</td>\n",
              "      <td>0.427348</td>\n",
              "      <td>0.0</td>\n",
              "      <td>0.0</td>\n",
              "      <td>0.333333</td>\n",
              "      <td>0.344744</td>\n",
              "    </tr>\n",
              "    <tr>\n",
              "      <th>4</th>\n",
              "      <td>0.500000</td>\n",
              "      <td>0.0</td>\n",
              "      <td>0.543572</td>\n",
              "      <td>0.0</td>\n",
              "      <td>0.0</td>\n",
              "      <td>0.333333</td>\n",
              "      <td>0.060637</td>\n",
              "    </tr>\n",
              "  </tbody>\n",
              "</table>\n",
              "</div>\n",
              "      <button class=\"colab-df-convert\" onclick=\"convertToInteractive('df-3118b37e-f1b0-49f1-a87d-245a056115a6')\"\n",
              "              title=\"Convert this dataframe to an interactive table.\"\n",
              "              style=\"display:none;\">\n",
              "        \n",
              "  <svg xmlns=\"http://www.w3.org/2000/svg\" height=\"24px\"viewBox=\"0 0 24 24\"\n",
              "       width=\"24px\">\n",
              "    <path d=\"M0 0h24v24H0V0z\" fill=\"none\"/>\n",
              "    <path d=\"M18.56 5.44l.94 2.06.94-2.06 2.06-.94-2.06-.94-.94-2.06-.94 2.06-2.06.94zm-11 1L8.5 8.5l.94-2.06 2.06-.94-2.06-.94L8.5 2.5l-.94 2.06-2.06.94zm10 10l.94 2.06.94-2.06 2.06-.94-2.06-.94-.94-2.06-.94 2.06-2.06.94z\"/><path d=\"M17.41 7.96l-1.37-1.37c-.4-.4-.92-.59-1.43-.59-.52 0-1.04.2-1.43.59L10.3 9.45l-7.72 7.72c-.78.78-.78 2.05 0 2.83L4 21.41c.39.39.9.59 1.41.59.51 0 1.02-.2 1.41-.59l7.78-7.78 2.81-2.81c.8-.78.8-2.07 0-2.86zM5.41 20L4 18.59l7.72-7.72 1.47 1.35L5.41 20z\"/>\n",
              "  </svg>\n",
              "      </button>\n",
              "      \n",
              "  <style>\n",
              "    .colab-df-container {\n",
              "      display:flex;\n",
              "      flex-wrap:wrap;\n",
              "      gap: 12px;\n",
              "    }\n",
              "\n",
              "    .colab-df-convert {\n",
              "      background-color: #E8F0FE;\n",
              "      border: none;\n",
              "      border-radius: 50%;\n",
              "      cursor: pointer;\n",
              "      display: none;\n",
              "      fill: #1967D2;\n",
              "      height: 32px;\n",
              "      padding: 0 0 0 0;\n",
              "      width: 32px;\n",
              "    }\n",
              "\n",
              "    .colab-df-convert:hover {\n",
              "      background-color: #E2EBFA;\n",
              "      box-shadow: 0px 1px 2px rgba(60, 64, 67, 0.3), 0px 1px 3px 1px rgba(60, 64, 67, 0.15);\n",
              "      fill: #174EA6;\n",
              "    }\n",
              "\n",
              "    [theme=dark] .colab-df-convert {\n",
              "      background-color: #3B4455;\n",
              "      fill: #D2E3FC;\n",
              "    }\n",
              "\n",
              "    [theme=dark] .colab-df-convert:hover {\n",
              "      background-color: #434B5C;\n",
              "      box-shadow: 0px 1px 3px 1px rgba(0, 0, 0, 0.15);\n",
              "      filter: drop-shadow(0px 1px 2px rgba(0, 0, 0, 0.3));\n",
              "      fill: #FFFFFF;\n",
              "    }\n",
              "  </style>\n",
              "\n",
              "      <script>\n",
              "        const buttonEl =\n",
              "          document.querySelector('#df-3118b37e-f1b0-49f1-a87d-245a056115a6 button.colab-df-convert');\n",
              "        buttonEl.style.display =\n",
              "          google.colab.kernel.accessAllowed ? 'block' : 'none';\n",
              "\n",
              "        async function convertToInteractive(key) {\n",
              "          const element = document.querySelector('#df-3118b37e-f1b0-49f1-a87d-245a056115a6');\n",
              "          const dataTable =\n",
              "            await google.colab.kernel.invokeFunction('convertToInteractive',\n",
              "                                                     [key], {});\n",
              "          if (!dataTable) return;\n",
              "\n",
              "          const docLinkHtml = 'Like what you see? Visit the ' +\n",
              "            '<a target=\"_blank\" href=https://colab.research.google.com/notebooks/data_table.ipynb>data table notebook</a>'\n",
              "            + ' to learn more about interactive tables.';\n",
              "          element.innerHTML = '';\n",
              "          dataTable['output_type'] = 'display_data';\n",
              "          await google.colab.output.renderOutput(dataTable, element);\n",
              "          const docLink = document.createElement('div');\n",
              "          docLink.innerHTML = docLinkHtml;\n",
              "          element.appendChild(docLink);\n",
              "        }\n",
              "      </script>\n",
              "    </div>\n",
              "  </div>\n",
              "  "
            ]
          },
          "metadata": {},
          "execution_count": 15
        }
      ],
      "source": [
        "#Test Your Zaka\n",
        "max_val=data.max()\n",
        "data=data.divide(max_val)\n",
        "data.head()"
      ]
    },
    {
      "cell_type": "markdown",
      "metadata": {
        "id": "nwQPUuGy8vmw"
      },
      "source": [
        "## 4. Model Training & Testing\n",
        "\n"
      ]
    },
    {
      "cell_type": "markdown",
      "metadata": {
        "id": "LTNYhHSpHezL"
      },
      "source": [
        "#### Data splits\n",
        "\n",
        "Before training, we need to split data into training (80%) & testing (20%), and fix the random_state parameter to 42 <br>Print the shapes of your training and testing data."
      ]
    },
    {
      "cell_type": "code",
      "execution_count": null,
      "metadata": {
        "colab": {
          "base_uri": "https://localhost:8080/"
        },
        "id": "5n3DqBUG892K",
        "outputId": "46735768-4564-427c-86f1-894ea56d4f5a"
      },
      "outputs": [
        {
          "output_type": "stream",
          "name": "stdout",
          "text": [
            "(1068, 4) (1068,)\n",
            "(267, 4) (267,)\n"
          ]
        }
      ],
      "source": [
        "#Test Your Zaka\n",
        "x=data.iloc[:,[0,2,3,6]].values # i will remove region since it doesn't have any impact on smoking decision\n",
        "y=data.iloc[:,4].values\n",
        "\n",
        "x_train, x_test, y_train, y_test = train_test_split(x,y, test_size=0.2, random_state=42)\n",
        "\n",
        "print(x_train.shape, y_train.shape)\n",
        "print(x_test.shape, y_test.shape)"
      ]
    },
    {
      "cell_type": "markdown",
      "metadata": {
        "id": "7dPqqZiT97Eg"
      },
      "source": [
        "#### Logistic Regression Modeling\n"
      ]
    },
    {
      "cell_type": "markdown",
      "metadata": {
        "id": "hRNys9cPvr4W"
      },
      "source": [
        "Define the logistic Regression model, and fit it on the training data"
      ]
    },
    {
      "cell_type": "code",
      "execution_count": null,
      "metadata": {
        "colab": {
          "base_uri": "https://localhost:8080/"
        },
        "id": "CYUD8wNF9bm3",
        "outputId": "3e1e9a29-16e8-43c3-b1e6-1b0376e710f1"
      },
      "outputs": [
        {
          "output_type": "stream",
          "name": "stdout",
          "text": [
            "Model is trained!\n"
          ]
        }
      ],
      "source": [
        "#Test Your Zaka\n",
        "logist=LogisticRegression()\n",
        "logist.fit(x_train, y_train)\n",
        "print('Model is trained!')"
      ]
    },
    {
      "cell_type": "markdown",
      "metadata": {
        "id": "8KIBXHUKHijy"
      },
      "source": [
        "#### Evaluation"
      ]
    },
    {
      "cell_type": "markdown",
      "metadata": {
        "id": "Wxz6PsUGv0gB"
      },
      "source": [
        "Evaluate your model on the testing data, and compute: Accuracy, Precision, Recall and F1 score"
      ]
    },
    {
      "cell_type": "code",
      "execution_count": null,
      "metadata": {
        "id": "jEhqbtbCHmg8"
      },
      "outputs": [],
      "source": [
        "#Test Your Zaka\n",
        "from sklearn import metrics\n",
        "logist_pred=logist.predict(x_test)"
      ]
    },
    {
      "cell_type": "code",
      "source": [
        "from sklearn.metrics import confusion_matrix\n",
        "\n",
        "TN, FP, FN, TP = confusion_matrix(y_test,logist_pred).ravel()\n",
        "print(f\"True Negative: {TN} \\nFalse Positive: {FP} \\nFalse Negative: {FN} \\nTrue Positive: {TP}\" )\n",
        "\n",
        "logist_acc=(TN+TP)/len(y_test)\n",
        "logist_prec=TP/(TP+FP)\n",
        "logist_recall=TP/(TP+FN)\n",
        "logist_f1=(2*logist_prec*logist_recall)/(logist_prec+logist_recall)\n",
        "\n",
        "print(f\"Accuracy: {logist_acc} \\nPrecision: {logist_prec} \\nRecall: {logist_recall} \\nF1 Score: {logist_f1}\")\n"
      ],
      "metadata": {
        "colab": {
          "base_uri": "https://localhost:8080/"
        },
        "id": "Khg63c-nWPx8",
        "outputId": "f1d96fcd-759b-440a-d5f5-1288cbeda986"
      },
      "execution_count": null,
      "outputs": [
        {
          "output_type": "stream",
          "name": "stdout",
          "text": [
            "True Negative: 200 \n",
            "False Positive: 2 \n",
            "False Negative: 25 \n",
            "True Positive: 40\n",
            "Accuracy: 0.898876404494382 \n",
            "Precision: 0.9523809523809523 \n",
            "Recall: 0.6153846153846154 \n",
            "F1 Score: 0.7476635514018692\n"
          ]
        }
      ]
    },
    {
      "cell_type": "markdown",
      "metadata": {
        "id": "HTuXCuF4kJKX"
      },
      "source": [
        "Which metrics you think can be improved?"
      ]
    },
    {
      "cell_type": "markdown",
      "metadata": {
        "id": "0v1qLhLJwJ6y"
      },
      "source": [
        "**Recall should be improved since it is just 61% (F1 score is directly linked to it). As we can see False negative is high (25) wrt to other metrics due to data imbalance (smokers have low distribution in comparison with non_smokers) thus our model performs pretty well for non_smokers however it didn't learnt enough to predict smoker case**"
      ]
    },
    {
      "cell_type": "markdown",
      "metadata": {
        "id": "GvDITkSAj1GI"
      },
      "source": [
        "##5. Model Improvement"
      ]
    },
    {
      "cell_type": "markdown",
      "metadata": {
        "id": "kEQegNwxkE4t"
      },
      "source": [
        "Now we will try to improve the model that we built."
      ]
    },
    {
      "cell_type": "markdown",
      "metadata": {
        "id": "muAmLM-Hmpv0"
      },
      "source": [
        "####Handle data Imbalance"
      ]
    },
    {
      "cell_type": "markdown",
      "metadata": {
        "id": "apVdsILUwUUn"
      },
      "source": [
        "Plot a histogram that shows the numbers of smokers and non smokers"
      ]
    },
    {
      "cell_type": "code",
      "execution_count": null,
      "metadata": {
        "id": "1KMyylha2Y-g",
        "colab": {
          "base_uri": "https://localhost:8080/",
          "height": 295
        },
        "outputId": "57135850-036e-4a6c-e422-e375e7b685ba"
      },
      "outputs": [
        {
          "output_type": "display_data",
          "data": {
            "text/plain": [
              "<Figure size 432x288 with 1 Axes>"
            ],
            "image/png": "[encoded data removed]"
          },
          "metadata": {
            "needs_background": "light"
          }
        }
      ],
      "source": [
        "#Test Your Zaka\n",
        "plt.hist(smokers['smoker'], color='r', label='smoker')\n",
        "plt.hist(non_smokers['smoker'], color='b', label='non_smoker')\n",
        "\n",
        "plt.title(\"Distribution of smokers and non_smokers\")\n",
        "plt.xlabel(\"Smokers Vs Non-Smokers\")\n",
        "plt.ylabel(\"Frequency\")\n",
        "plt.legend()\n",
        "plt.show()"
      ]
    },
    {
      "cell_type": "markdown",
      "metadata": {
        "id": "9MzV8OJ5m03J"
      },
      "source": [
        "We can see that we have a clearly imbalanced dataset. To handle it, we choose to do 2 steps:\n",
        "* Oversampling the minority class with a factor of 0.5\n",
        "* Undersampling the majority class to obtain the same number in the 2 classes\n",
        "<br>\n",
        "We do that by using the RandomOverSaampler and RandomUnderSampler from the imblearn library."
      ]
    },
    {
      "cell_type": "code",
      "execution_count": null,
      "metadata": {
        "id": "9-ZRF4gMnjuf",
        "colab": {
          "base_uri": "https://localhost:8080/"
        },
        "outputId": "897f469c-af10-4849-f9bb-bb222389ef2c"
      },
      "outputs": [
        {
          "output_type": "stream",
          "name": "stdout",
          "text": [
            "Data is now balanced with 1060 instances with equal smoking/non_smoking distributions\n"
          ]
        }
      ],
      "source": [
        "#Test Your Zaka\n",
        "from imblearn.over_sampling import RandomOverSampler\n",
        "from imblearn.under_sampling import RandomUnderSampler\n",
        "\n",
        "over = RandomOverSampler(sampling_strategy=0.5) \n",
        "x_new, y_new = over.fit_resample(x,y)\n",
        "\n",
        "under = RandomUnderSampler()\n",
        "x_new, y_new =under.fit_resample(x_new,y_new)\n",
        "print(f\"Data is now balanced with {len(x_new)} instances with equal smoking/non_smoking distributions\")"
      ]
    },
    {
      "cell_type": "markdown",
      "metadata": {
        "id": "J-_mELCkwgnR"
      },
      "source": [
        "Plot a new histogram on the new data we have."
      ]
    },
    {
      "cell_type": "code",
      "execution_count": null,
      "metadata": {
        "id": "WjVUHgi_ou-g",
        "colab": {
          "base_uri": "https://localhost:8080/",
          "height": 295
        },
        "outputId": "34373b8c-acd1-40f9-86f9-4c36b0a29ebe"
      },
      "outputs": [
        {
          "output_type": "display_data",
          "data": {
            "text/plain": [
              "<Figure size 432x288 with 1 Axes>"
            ],
            "image/png": "[encoded data removed]"
          },
          "metadata": {
            "needs_background": "light"
          }
        }
      ],
      "source": [
        "#Test Your Zaka\n",
        "plt.hist(y_new)\n",
        "plt.title(\"Distribution of smokers and non_smokers\")\n",
        "plt.xlabel(\"Smokers Vs Non-Smokers\")\n",
        "plt.ylabel(\"Frequency\")\n",
        "plt.show()"
      ]
    },
    {
      "cell_type": "markdown",
      "metadata": {
        "id": "jZx2-2mawnhU"
      },
      "source": [
        "Split the new data you obtained (80%, 20%), and build a Logistic Regression mode, and fit it on this data. Fix the random_state at 42"
      ]
    },
    {
      "cell_type": "code",
      "execution_count": null,
      "metadata": {
        "id": "Z_z-8P_io7GK",
        "colab": {
          "base_uri": "https://localhost:8080/"
        },
        "outputId": "3ee7d6f0-ff1c-4b4d-888e-7fd4c5b44a88"
      },
      "outputs": [
        {
          "output_type": "stream",
          "name": "stdout",
          "text": [
            "Training samples: 848 \n",
            "Testing samples:212\n"
          ]
        },
        {
          "output_type": "execute_result",
          "data": {
            "text/plain": [
              "LogisticRegression()"
            ]
          },
          "metadata": {},
          "execution_count": 26
        }
      ],
      "source": [
        "#Test Your Zaka\n",
        "x_train2, x_test2, y_train2, y_test2 = train_test_split(x_new,y_new, test_size=0.2, random_state=42)\n",
        "\n",
        "print(f\"Training samples: {y_train2.shape[0]} \\nTesting samples:{y_test2.shape[0]}\")\n",
        "logist=LogisticRegression()\n",
        "logist.fit(x_train2, y_train2)"
      ]
    },
    {
      "cell_type": "markdown",
      "metadata": {
        "id": "igAMMumCw53W"
      },
      "source": [
        "Asses your model on the testing data, and Compute the same metrics you computed before"
      ]
    },
    {
      "cell_type": "code",
      "execution_count": null,
      "metadata": {
        "id": "q6pV29t-pcFm",
        "colab": {
          "base_uri": "https://localhost:8080/"
        },
        "outputId": "af780d78-6568-4744-edbb-bd58329a7dd1"
      },
      "outputs": [
        {
          "output_type": "stream",
          "name": "stdout",
          "text": [
            "\n",
            "True Negative: 106 \n",
            "False Positive: 7 \n",
            "False Negative: 0 \n",
            "True Positive: 99\n",
            "\n",
            "Accuracy: 0.9669811320754716 \n",
            "Precision: 0.9339622641509434 \n",
            "Recall: 1.0 \n",
            "F1 Score: 0.9658536585365853\n"
          ]
        }
      ],
      "source": [
        "#Test Your Zaka\n",
        "logist_pred2=logist.predict(x_test2)\n",
        "\n",
        "TN2, FP2, FN2, TP2 = confusion_matrix(y_test2,logist_pred2).ravel()\n",
        "print(f\"\\nTrue Negative: {TN2} \\nFalse Positive: {FP2} \\nFalse Negative: {FN2} \\nTrue Positive: {TP2}\" )\n",
        "\n",
        "logist_acc2=(TN2+TP2)/len(y_test2)\n",
        "logist_prec2=TP2/(TP2+FP2)\n",
        "logist_recall2=TP2/(TP2+FN2)\n",
        "logist_f12=(2*logist_prec2*logist_recall2)/(logist_prec2+logist_recall2)\n",
        "print(f\"\\nAccuracy: {logist_acc2} \\nPrecision: {logist_prec2} \\nRecall: {logist_recall2} \\nF1 Score: {logist_f12}\")"
      ]
    },
    {
      "cell_type": "markdown",
      "metadata": {
        "id": "yDP6PNQUtzJZ"
      },
      "source": [
        "We can see how much our scores got better when we balanced our dataset."
      ]
    },
    {
      "cell_type": "markdown",
      "metadata": {
        "id": "0kIR_0OOuehK"
      },
      "source": [
        "####Regularization with Hyperparameter Tuning"
      ]
    },
    {
      "cell_type": "markdown",
      "metadata": {
        "id": "r4JMLSS4uj-y"
      },
      "source": [
        "We will be tuning the hyperparameter C in the logistic regression model that we used. This hyperparameter represents regularization.\n",
        "<br><img src=\"https://equatio-api.texthelp.com/svg/C%5C%20%3D%5C%20%5Cfrac%7B1%7D%7B%5Clambda%7D\" alt=\"C equals 1 over lamda\">"
      ]
    },
    {
      "cell_type": "markdown",
      "metadata": {
        "id": "BJQlUrE3xf0G"
      },
      "source": [
        "The possible values of C will be: [0.1, 1, 10, 100, 1000]"
      ]
    },
    {
      "cell_type": "markdown",
      "metadata": {
        "id": "r46K-FU-0_N2"
      },
      "source": [
        "We will also know have to decide what type of regularization we will use: L1, or L2.\n",
        "\n",
        "Since we have several parameters to tune, we will be doing what we call a GridSearch, to search for the best model having the best pair of hyperparameters.\n",
        "We will be doing a 5 folds cross validation"
      ]
    },
    {
      "cell_type": "markdown",
      "metadata": {
        "id": "SIin4G7vxtTA"
      },
      "source": [
        "Note: Specify the solver='liblinear' in your LogisticRegression model, and this is because other solvers do not support L1 regularization."
      ]
    },
    {
      "cell_type": "markdown",
      "metadata": {
        "id": "Rib4gF9Dx-en"
      },
      "source": [
        "Print the best score and the best parameters"
      ]
    },
    {
      "cell_type": "code",
      "source": [
        "from sklearn.model_selection import GridSearchCV\n",
        "parameters = {'penalty':['l1', 'l2'], 'C':[0.1, 1, 10, 100, 1000],'solver':['liblinear']}\n",
        "Logist_Reg= LogisticRegression()\n",
        "Reg_Model= GridSearchCV(Logist_Reg, parameters,cv = 5)\n",
        "Reg_Model.fit(x_train2, y_train2)\n",
        "\n",
        "op_index=np.argmax(np.array(Reg_Model.cv_results_['mean_test_score']))\n",
        "print(f\"Max Mean Score {Reg_Model.cv_results_['mean_test_score'][op_index]} \\nC= {Reg_Model.cv_results_['param_C'][op_index]} \\nPenalty= {Reg_Model.cv_results_['param_penalty'][op_index]}\")"
      ],
      "metadata": {
        "colab": {
          "base_uri": "https://localhost:8080/"
        },
        "id": "Z0PzJVONnZKb",
        "outputId": "ada4cdd1-ac95-489e-9de8-2f5899d843e9"
      },
      "execution_count": null,
      "outputs": [
        {
          "output_type": "stream",
          "name": "stdout",
          "text": [
            "Max Mean Score 0.9669683257918551 \n",
            "C= 10 \n",
            "Penalty= l1\n"
          ]
        }
      ]
    },
    {
      "cell_type": "markdown",
      "metadata": {
        "id": "ledU43xMviNL"
      },
      "source": [
        "Let's assess the model's performance in general for the best specified hyperparameters using the same metrics we used earlier."
      ]
    },
    {
      "cell_type": "code",
      "execution_count": null,
      "metadata": {
        "id": "1mwc0KjxvoZe",
        "colab": {
          "base_uri": "https://localhost:8080/"
        },
        "outputId": "f0368333-4f75-4af6-a047-49d9e00c3031"
      },
      "outputs": [
        {
          "output_type": "stream",
          "name": "stdout",
          "text": [
            "Accuracy: 0.9858490566037735 \n",
            "Precision: 0.9705882352941176 \n",
            "Recall: 1.0 \n",
            "F1 Score: 0.9850746268656716\n"
          ]
        }
      ],
      "source": [
        "#Test Your Zaka\n",
        "Logist_L1= LogisticRegression(penalty='l1',C=10,solver='liblinear')\n",
        "Logist_L1.fit(x_train2,y_train2)\n",
        "Logist_L1_pred=Logist_L1.predict(x_test2)\n",
        "\n",
        "logist_L1_acc=metrics.accuracy_score(y_test2, Logist_L1_pred)\n",
        "logist_L1_prec=metrics.precision_score(y_test2, Logist_L1_pred)\n",
        "logist_L1_recall=metrics.recall_score(y_test2, Logist_L1_pred)\n",
        "logist_L1_f1=metrics.f1_score(y_test2, Logist_L1_pred)\n",
        "\n",
        "print(f\"Accuracy: {logist_L1_acc} \\nPrecision: {logist_L1_prec} \\nRecall: {logist_L1_recall} \\nF1 Score: {logist_L1_f1}\")"
      ]
    },
    {
      "cell_type": "markdown",
      "metadata": {
        "id": "wwHhYH8zzcdt"
      },
      "source": [
        "We can see that the results improved compared to the last model we built."
      ]
    },
    {
      "cell_type": "markdown",
      "metadata": {
        "id": "Q4BLDv8hsAyM"
      },
      "source": [
        "####AdaBoost Classifier"
      ]
    },
    {
      "cell_type": "markdown",
      "metadata": {
        "id": "YFX7ljdRzruM"
      },
      "source": [
        "Now, we will work on improving our model, but this time through using ensemble methods, and what we will use for today is Adaboost.\n",
        "\n",
        "AdaBoost is a boosting ensemble method that relies on the boosting concepts that we learned about during the week. \n",
        "In Adaboost, each model is learning to correct the previous model's mistakes (misclassified examples). After that, each model will have a weight that depends on how well it performed on the training data. And after that, different results are aggregated based on weighted averaging."
      ]
    },
    {
      "cell_type": "markdown",
      "metadata": {
        "id": "5dTYTtsPyZ36"
      },
      "source": [
        "Create an AdaBoostClassifier Model from sklearn library with n_estimators=10, and fit it on the training data you have."
      ]
    },
    {
      "cell_type": "code",
      "execution_count": null,
      "metadata": {
        "id": "xozI_6NvqWHu",
        "colab": {
          "base_uri": "https://localhost:8080/"
        },
        "outputId": "41eb8c5c-021c-40d1-b708-671180ad90f0"
      },
      "outputs": [
        {
          "output_type": "execute_result",
          "data": {
            "text/plain": [
              "AdaBoostClassifier(n_estimators=10)"
            ]
          },
          "metadata": {},
          "execution_count": 30
        }
      ],
      "source": [
        "#Test Your Zaka\n",
        "from sklearn.ensemble import AdaBoostClassifier\n",
        "\n",
        "Adaboost_cls=AdaBoostClassifier(n_estimators=10)\n",
        "Adaboost_cls.fit(x_train2,y_train2)"
      ]
    },
    {
      "cell_type": "markdown",
      "metadata": {
        "id": "l7kkGl10yjkN"
      },
      "source": [
        "Asses the performance of your model on the testing data, and compute the same metrics we computed earlier."
      ]
    },
    {
      "cell_type": "code",
      "execution_count": null,
      "metadata": {
        "id": "V2EhqVjWsHfY",
        "colab": {
          "base_uri": "https://localhost:8080/"
        },
        "outputId": "18321a93-5a59-4269-a953-539c069f9c64"
      },
      "outputs": [
        {
          "output_type": "stream",
          "name": "stdout",
          "text": [
            "\n",
            "Accuracy: 0.9764150943396226 \n",
            "Precision: 0.9607843137254902 \n",
            "Recall: 0.98989898989899 \n",
            "F1 Score: 0.9751243781094527\n"
          ]
        }
      ],
      "source": [
        "#Test Your Zaka\n",
        "Adaboost_pred=Adaboost_cls.predict(x_test2)\n",
        "\n",
        "Adaboost_acc=metrics.accuracy_score(y_test2, Adaboost_pred)\n",
        "Adaboost_prec=metrics.precision_score(y_test2, Adaboost_pred)\n",
        "Adaboost_recall=metrics.recall_score(y_test2, Adaboost_pred)\n",
        "Adaboost_f1=metrics.f1_score(y_test2, Adaboost_pred)\n",
        "\n",
        "print(f\"\\nAccuracy: {Adaboost_acc} \\nPrecision: {Adaboost_prec} \\nRecall: {Adaboost_recall} \\nF1 Score: {Adaboost_f1}\")"
      ]
    }
  ],
  "metadata": {
    "colab": {
      "collapsed_sections": [],
      "name": "Smoking Vs Non-Smoking Classification with model optimization.ipynb",
      "provenance": []
    },
    "kernelspec": {
      "display_name": "Python 3",
      "name": "python3"
    }
  },
  "nbformat": 4,
  "nbformat_minor": 0
}